{
  "cells": [
    {
      "cell_type": "markdown",
      "metadata": {
        "id": "view-in-github",
        "colab_type": "text"
      },
      "source": [
        "<a href=\"https://colab.research.google.com/github/SriAmbica11/SriAmbica_INFO5731_Spring2025/blob/main/Sangineedi_SriAmbica_Assignment_04.ipynb\" target=\"_parent\"><img src=\"https://colab.research.google.com/assets/colab-badge.svg\" alt=\"Open In Colab\"/></a>"
      ]
    },
    {
      "cell_type": "markdown",
      "metadata": {
        "id": "VdRwkJBn70nX"
      },
      "source": [
        "# **INFO5731 Assignment: 4**\n",
        "\n",
        "**This exercise will provide a valuable learning experience in working with text data and extracting features using various topic modeling algorithms. Key concepts such as Latent Dirichlet Allocation (LDA), Latent Semantic Analysis (LSA) and BERTopic.**"
      ]
    },
    {
      "cell_type": "markdown",
      "source": [
        "\n",
        "\n",
        "**Expectations**:\n",
        "*   Students are expected to complete the exercise during lecture period to meet the active participation criteria of the course.\n",
        "*   Use the provided .*ipynb* document to write your code & respond to the questions. Avoid generating a new file.\n",
        "*   Write complete answers and run all the cells before submission.\n",
        "*   Make sure the submission is \"clean\"; *i.e.*, no unnecessary code cells.\n",
        "*   Once finished, allow shared rights from top right corner (*see Canvas for details*).\n",
        "\n",
        "**Total points**: 100\n",
        "\n",
        "\n",
        "NOTE: The output should be presented well to get **full points**\n",
        "\n",
        "**Late submissions will have a penalty of 10% of the marks for each day of late submission, and no requests will be answered. Manage your time accordingly.**\n"
      ],
      "metadata": {
        "id": "TU-pLW33lpcS"
      }
    },
    {
      "cell_type": "markdown",
      "source": [
        "# **Question 1 (20 Points)**"
      ],
      "metadata": {
        "id": "lPTYY22vDnWu"
      }
    },
    {
      "cell_type": "markdown",
      "source": [
        "**Dataset**: 20 Newsgroups dataset\n",
        "\n",
        "**Dataset Link**: https://scikit-learn.org/0.19/datasets/twenty_newsgroups.html\n",
        "\n",
        "**Consider Random 2000 rows only**\n",
        "\n",
        "Generate K=10 topics by using LDA and LSA,\n",
        "then calculate coherence score and determine the optimized K value by the coherence score. Further, summarize and visualize each topics in you own words.\n"
      ],
      "metadata": {
        "id": "dUkAOXJQDq0J"
      }
    },
    {
      "cell_type": "code",
      "source": [
        "!pip install gensim"
      ],
      "metadata": {
        "colab": {
          "base_uri": "https://localhost:8080/"
        },
        "id": "kxs3aFT3senU",
        "outputId": "81899856-37ea-4013-90dc-1ffa8938ebf1"
      },
      "execution_count": null,
      "outputs": [
        {
          "output_type": "stream",
          "name": "stdout",
          "text": [
            "Collecting gensim\n",
            "  Downloading gensim-4.3.3-cp311-cp311-manylinux_2_17_x86_64.manylinux2014_x86_64.whl.metadata (8.1 kB)\n",
            "Collecting numpy<2.0,>=1.18.5 (from gensim)\n",
            "  Downloading numpy-1.26.4-cp311-cp311-manylinux_2_17_x86_64.manylinux2014_x86_64.whl.metadata (61 kB)\n",
            "\u001b[2K     \u001b[90m━━━━━━━━━━━━━━━━━━━━━━━━━━━━━━━━━━━━━━━━\u001b[0m \u001b[32m61.0/61.0 kB\u001b[0m \u001b[31m4.7 MB/s\u001b[0m eta \u001b[36m0:00:00\u001b[0m\n",
            "\u001b[?25hCollecting scipy<1.14.0,>=1.7.0 (from gensim)\n",
            "  Downloading scipy-1.13.1-cp311-cp311-manylinux_2_17_x86_64.manylinux2014_x86_64.whl.metadata (60 kB)\n",
            "\u001b[2K     \u001b[90m━━━━━━━━━━━━━━━━━━━━━━━━━━━━━━━━━━━━━━━━\u001b[0m \u001b[32m60.6/60.6 kB\u001b[0m \u001b[31m3.1 MB/s\u001b[0m eta \u001b[36m0:00:00\u001b[0m\n",
            "\u001b[?25hRequirement already satisfied: smart-open>=1.8.1 in /usr/local/lib/python3.11/dist-packages (from gensim) (7.1.0)\n",
            "Requirement already satisfied: wrapt in /usr/local/lib/python3.11/dist-packages (from smart-open>=1.8.1->gensim) (1.17.2)\n",
            "Downloading gensim-4.3.3-cp311-cp311-manylinux_2_17_x86_64.manylinux2014_x86_64.whl (26.7 MB)\n",
            "\u001b[2K   \u001b[90m━━━━━━━━━━━━━━━━━━━━━━━━━━━━━━━━━━━━━━━━\u001b[0m \u001b[32m26.7/26.7 MB\u001b[0m \u001b[31m46.1 MB/s\u001b[0m eta \u001b[36m0:00:00\u001b[0m\n",
            "\u001b[?25hDownloading numpy-1.26.4-cp311-cp311-manylinux_2_17_x86_64.manylinux2014_x86_64.whl (18.3 MB)\n",
            "\u001b[2K   \u001b[90m━━━━━━━━━━━━━━━━━━━━━━━━━━━━━━━━━━━━━━━━\u001b[0m \u001b[32m18.3/18.3 MB\u001b[0m \u001b[31m57.4 MB/s\u001b[0m eta \u001b[36m0:00:00\u001b[0m\n",
            "\u001b[?25hDownloading scipy-1.13.1-cp311-cp311-manylinux_2_17_x86_64.manylinux2014_x86_64.whl (38.6 MB)\n",
            "\u001b[2K   \u001b[90m━━━━━━━━━━━━━━━━━━━━━━━━━━━━━━━━━━━━━━━━\u001b[0m \u001b[32m38.6/38.6 MB\u001b[0m \u001b[31m12.2 MB/s\u001b[0m eta \u001b[36m0:00:00\u001b[0m\n",
            "\u001b[?25hInstalling collected packages: numpy, scipy, gensim\n",
            "  Attempting uninstall: numpy\n",
            "    Found existing installation: numpy 2.0.2\n",
            "    Uninstalling numpy-2.0.2:\n",
            "      Successfully uninstalled numpy-2.0.2\n",
            "  Attempting uninstall: scipy\n",
            "    Found existing installation: scipy 1.14.1\n",
            "    Uninstalling scipy-1.14.1:\n",
            "      Successfully uninstalled scipy-1.14.1\n",
            "Successfully installed gensim-4.3.3 numpy-1.26.4 scipy-1.13.1\n"
          ]
        }
      ]
    },
    {
      "cell_type": "code",
      "source": [
        "#%%\n",
        "import random\n",
        "import numpy as np\n",
        "from sklearn.datasets import fetch_20newsgroups\n",
        "data_train = fetch_20newsgroups(subset='train', remove=('headers','footers','quotes'))\n",
        "amb_assign4_data = np.array(data_train.data)\n",
        "np.random.seed(42)\n",
        "sample_idx = np.random.choice(len(amb_assign4_data), 2000, replace=False)\n",
        "amb_assign4_data = amb_assign4_data[sample_idx]"
      ],
      "metadata": {
        "id": "gAfdqFalQgnL"
      },
      "execution_count": null,
      "outputs": []
    },
    {
      "cell_type": "code",
      "source": [
        "#%%\n",
        "!pip install --upgrade numpy gensim"
      ],
      "metadata": {
        "colab": {
          "base_uri": "https://localhost:8080/"
        },
        "id": "a0hkYTtqss2F",
        "outputId": "c262014b-a2e5-4d59-8bcd-4ef7f80ebbaa"
      },
      "execution_count": null,
      "outputs": [
        {
          "output_type": "stream",
          "name": "stdout",
          "text": [
            "Requirement already satisfied: numpy in /usr/local/lib/python3.11/dist-packages (1.26.4)\n",
            "Collecting numpy\n",
            "  Using cached numpy-2.2.4-cp311-cp311-manylinux_2_17_x86_64.manylinux2014_x86_64.whl.metadata (62 kB)\n",
            "Requirement already satisfied: gensim in /usr/local/lib/python3.11/dist-packages (4.3.3)\n",
            "Requirement already satisfied: scipy<1.14.0,>=1.7.0 in /usr/local/lib/python3.11/dist-packages (from gensim) (1.13.1)\n",
            "Requirement already satisfied: smart-open>=1.8.1 in /usr/local/lib/python3.11/dist-packages (from gensim) (7.1.0)\n",
            "Requirement already satisfied: wrapt in /usr/local/lib/python3.11/dist-packages (from smart-open>=1.8.1->gensim) (1.17.2)\n"
          ]
        }
      ]
    },
    {
      "cell_type": "code",
      "source": [
        "import random\n",
        "import re\n",
        "import pandas as pd\n",
        "import matplotlib.pyplot as plt\n",
        "from sklearn.datasets import fetch_20newsgroups\n",
        "from sklearn.feature_extraction.text import CountVectorizer, TfidfVectorizer\n",
        "from sklearn.decomposition import LatentDirichletAllocation, TruncatedSVD\n",
        "import nltk\n",
        "from nltk.corpus import stopwords\n",
        "from nltk.stem import WordNetLemmatizer\n",
        "import gensim\n",
        "from gensim.corpora.dictionary import Dictionary\n",
        "from gensim.models import CoherenceModel"
      ],
      "metadata": {
        "id": "IQnsY_1-peLw"
      },
      "execution_count": null,
      "outputs": []
    },
    {
      "cell_type": "code",
      "source": [
        "# Ensure NLTK data is available\n",
        "nltk.download('stopwords')\n",
        "nltk.download('wordnet')\n",
        "\n",
        "# 1. Load and sample data\n",
        "raw_data = fetch_20newsgroups(subset='all', remove=('headers','footers','quotes'))\n",
        "random.seed(42)\n",
        "sample_ids = random.sample(range(len(raw_data.data)), 2000)\n",
        "assignment4_ambica_df = pd.DataFrame({\n",
        "    'raw_text': [raw_data.data[i] for i in sample_ids]\n",
        "})"
      ],
      "metadata": {
        "colab": {
          "base_uri": "https://localhost:8080/"
        },
        "id": "Ge-bDtqEpeZ2",
        "outputId": "677b2652-f1c0-4cd8-abbd-76167167e1fb"
      },
      "execution_count": null,
      "outputs": [
        {
          "output_type": "stream",
          "name": "stderr",
          "text": [
            "[nltk_data] Downloading package stopwords to /root/nltk_data...\n",
            "[nltk_data]   Package stopwords is already up-to-date!\n",
            "[nltk_data] Downloading package wordnet to /root/nltk_data...\n"
          ]
        }
      ]
    },
    {
      "cell_type": "code",
      "source": [
        "# 2. Preprocessing function\n",
        "stopset = set(stopwords.words('english'))\n",
        "lemmatizer = WordNetLemmatizer()\n",
        "\n",
        "def assignment4_ambica_clean(text):\n",
        "    # lowercase, remove non-alphanumerics\n",
        "    text = re.sub(r'[^a-zA-Z0-9]', ' ', text.lower())\n",
        "    tokens = [lemmatizer.lemmatize(tok) for tok in text.split()\n",
        "              if tok not in stopset and len(tok)>3]\n",
        "    return ' '.join(tokens)\n",
        "\n",
        "assignment4_ambica_df['cleaned'] = assignment4_ambica_df['raw_text'].apply(assignment4_ambica_clean)\n",
        "\n",
        "# Tokenize for Gensim\n",
        "assignment4_ambica_tokens = [doc.split() for doc in assignment4_ambica_df['cleaned']]\n",
        "\n",
        "# Build Dictionary & Corpus\n",
        "assignment4_ambica_dict = Dictionary(assignment4_ambica_tokens)\n",
        "assignment4_ambica_corpus = [assignment4_ambica_dict.doc2bow(doc) for doc in assignment4_ambica_tokens]\n",
        "\n",
        "# 3. Create document-term matrices\n",
        "# Count (for LDA)\n",
        "count_vect = CountVectorizer(max_df=0.95, min_df=2)\n",
        "assignment4_ambica_tf = count_vect.fit_transform(assignment4_ambica_df['cleaned'])\n",
        "# TF-IDF (for LSA)\n",
        "tfidf_vect = TfidfVectorizer(max_df=0.95, min_df=2)\n",
        "assignment4_ambica_tfidf = tfidf_vect.fit_transform(assignment4_ambica_df['cleaned'])"
      ],
      "metadata": {
        "id": "5iAPdurSpein"
      },
      "execution_count": null,
      "outputs": []
    },
    {
      "cell_type": "code",
      "source": [
        "# 4. Train LDA & LSA models (K=10)\n",
        "\n",
        "import warnings\n",
        "import logging\n",
        "\n",
        "# silence all Python warnings\n",
        "warnings.filterwarnings(\"ignore\")\n",
        "\n",
        "# silence gensim INFO/WARNING logs\n",
        "logging.getLogger(\"gensim\").setLevel(logging.ERROR)\n",
        "\n",
        "\n",
        "K = 10\n",
        "lda_model = LatentDirichletAllocation(n_components=K, random_state=42, learning_method='batch')\n",
        "assignment4_ambica_lda_topics = lda_model.fit_transform(assignment4_ambica_tf)\n",
        "\n",
        "lsa_model = TruncatedSVD(n_components=K, random_state=42)\n",
        "assignment4_ambica_lsa_topics = lsa_model.fit_transform(assignment4_ambica_tfidf)\n",
        "\n",
        "# 5. Function to compute coherence for range of Ks\n",
        "def assignment4_ambica_compute_coherence(model_kind, texts, dictionary, corpus, k_min=2, k_max=12, step=1):\n",
        "    scores = []\n",
        "    for num in range(k_min, k_max, step):\n",
        "        if model_kind=='lda':\n",
        "            mdl = gensim.models.LdaModel(corpus=corpus, id2word=dictionary,\n",
        "                                         num_topics=num, random_state=42, passes=5)\n",
        "        else:  # LSA\n",
        "            mdl = gensim.models.LsiModel(corpus=corpus, id2word=dictionary, num_topics=num)\n",
        "        cm = CoherenceModel(model=mdl, texts=texts, dictionary=dictionary, coherence='c_v')\n",
        "        scores.append((num, cm.get_coherence()))\n",
        "    return scores\n",
        "\n",
        "lda_coh = assignment4_ambica_compute_coherence('lda', assignment4_ambica_tokens,\n",
        "                                              assignment4_ambica_dict, assignment4_ambica_corpus)\n",
        "lsa_coh = assignment4_ambica_compute_coherence('lsa', assignment4_ambica_tokens,\n",
        "                                              assignment4_ambica_dict, assignment4_ambica_corpus)"
      ],
      "metadata": {
        "id": "FxYZgiwVpepp"
      },
      "execution_count": null,
      "outputs": []
    },
    {
      "cell_type": "code",
      "source": [
        "# 6. Plot coherence scores for LDA vs LSA\n",
        "k_vals_lda, coh_vals_lda = zip(*lda_coh)\n",
        "k_vals_lsa, coh_vals_lsa = zip(*lsa_coh)\n",
        "\n",
        "plt.figure(figsize=(8,5))\n",
        "plt.plot(k_vals_lda, coh_vals_lda, marker='o', label='LDA c_v')\n",
        "plt.plot(k_vals_lsa, coh_vals_lsa, marker='s', label='LSA c_v')\n",
        "plt.xlabel('Number of Topics (K)')\n",
        "plt.ylabel('Coherence Score')\n",
        "plt.title('Coherence: LDA vs LSA')\n",
        "plt.legend()\n",
        "plt.tight_layout()\n",
        "plt.show()"
      ],
      "metadata": {
        "colab": {
          "base_uri": "https://localhost:8080/",
          "height": 507
        },
        "id": "VjtKxzaRpevW",
        "outputId": "b7a195ec-50b2-4626-a6f5-df3cd282f9d2"
      },
      "execution_count": null,
      "outputs": [
        {
          "output_type": "display_data",
          "data": {
            "text/plain": [
              "<Figure size 800x500 with 1 Axes>"
            ],
            "image/png": "[encoded data removed]"
          },
          "metadata": {}
        }
      ]
    },
    {
      "cell_type": "code",
      "source": [
        "# 7. Identify best K by highest coherence\n",
        "best_lda_k = max(lda_coh, key=lambda x: x[1])[0]\n",
        "best_lsa_k = max(lsa_coh, key=lambda x: x[1])[0]\n",
        "print(f\"Best LDA K: {best_lda_k}, Best LSA K: {best_lsa_k}\")\n",
        "\n",
        "# 8. Retrain models on optimal K\n",
        "best_lda = gensim.models.LdaModel(corpus=assignment4_ambica_corpus, id2word=assignment4_ambica_dict,\n",
        "                                  num_topics=best_lda_k, random_state=42, passes=5)\n",
        "best_lsa = gensim.models.LsiModel(corpus=assignment4_ambica_corpus, id2word=assignment4_ambica_dict,\n",
        "                                  num_topics=best_lsa_k)\n",
        "\n",
        "# 9. Display topics\n",
        "print(\"\\nLDA Topics:\")\n",
        "for i, topic in best_lda.show_topics(formatted=False, num_topics=best_lda_k, num_words=8):\n",
        "    print(f\"Topic {i+1}: {[word for word, _ in topic]}\")\n",
        "\n",
        "print(\"\\nLSA Topics:\")\n",
        "for i, topic in best_lsa.show_topics(formatted=False, num_topics=best_lsa_k, num_words=8):\n",
        "    print(f\"Topic {i+1}: {[word for word, _ in topic]}\")\n",
        "\n",
        "# Average weight per topic across documents\n",
        "lda_topic_weights = assignment4_ambica_lda_topics.mean(axis=0)\n",
        "plt.figure(figsize=(8,4))\n",
        "plt.bar(range(1, K+1), lda_topic_weights)\n",
        "plt.xlabel('LDA Topic')\n",
        "plt.ylabel('Average Document Weight')\n",
        "plt.title('LDA Topic Prevalence')\n",
        "plt.tight_layout()\n",
        "plt.show()\n",
        "\n",
        "for t in range(best_lda_k):\n",
        "    plt.figure(figsize=(6,3))\n",
        "    terms = best_lda.get_topic_terms(t, topn=6)\n",
        "    words = [assignment4_ambica_dict[id] for id, _ in terms]\n",
        "    weights = [weight for _, weight in terms]\n",
        "    plt.barh(words, weights)\n",
        "    plt.xlabel('Weight')\n",
        "    plt.title(f'LDA Topic {t+1} Top Words')\n",
        "    plt.tight_layout()\n",
        "    plt.show()"
      ],
      "metadata": {
        "colab": {
          "base_uri": "https://localhost:8080/",
          "height": 1000
        },
        "id": "TAF6m5Pwpe4b",
        "outputId": "e64d7992-0025-40eb-9aa7-f9a86a24b628"
      },
      "execution_count": null,
      "outputs": [
        {
          "output_type": "stream",
          "name": "stdout",
          "text": [
            "Best LDA K: 2, Best LSA K: 4\n",
            "\n",
            "LDA Topics:\n",
            "Topic 1: ['would', 'know', 'like', 'people', 'also', 'think', 'time', 'thing']\n",
            "Topic 2: ['would', 'program', 'entry', 'think', 'time', 'year', 'also', 'need']\n",
            "\n",
            "LSA Topics:\n",
            "Topic 1: ['president', 'stephanopoulos', 'program', 'file', 'think', 'package', 'entry', 'would']\n",
            "Topic 2: ['stephanopoulos', 'entry', 'president', 'file', 'think', 'available', 'know', 'said']\n",
            "Topic 3: ['entry', 'data', 'available', 'image', 'section', 'rule', 'program', 'build']\n",
            "Topic 4: ['stephanopoulos', 'administration', 'russian', 'russia', 'senior', 'official', 'government', 'program']\n"
          ]
        },
        {
          "output_type": "display_data",
          "data": {
            "text/plain": [
              "<Figure size 800x400 with 1 Axes>"
            ],
            "image/png": "[encoded data removed]"
          },
          "metadata": {}
        },
        {
          "output_type": "display_data",
          "data": {
            "text/plain": [
              "<Figure size 600x300 with 1 Axes>"
            ],
            "image/png": "[encoded data removed]"
          },
          "metadata": {}
        },
        {
          "output_type": "display_data",
          "data": {
            "text/plain": [
              "<Figure size 600x300 with 1 Axes>"
            ],
            "image/png": "[encoded data removed]"
          },
          "metadata": {}
        }
      ]
    },
    {
      "cell_type": "markdown",
      "source": [
        "# **BERTopic**"
      ],
      "metadata": {
        "id": "nJc0d1D-8FDk"
      }
    },
    {
      "cell_type": "markdown",
      "source": [
        "The following question is designed to help you develop a feel for the way topic modeling works, the connection to the human meanings of documents.\n",
        "\n",
        "Dataset from **assignment-3** (text dataset) .\n",
        "\n",
        "> Dont use any custom datasets.\n",
        "\n",
        "\n",
        "> Dataset must have 1000+ rows, no duplicates and null values\n",
        "\n"
      ],
      "metadata": {
        "id": "a4kaHgnnJqQh"
      }
    },
    {
      "cell_type": "code",
      "source": [
        "!pip install numpy>=1.24 --quiet\n",
        "!pip uninstall -y bertopic\n",
        "!pip install bertopic[all] --quiet\n",
        "!pip install gensim --quiet\n",
        "!pip install --upgrade h5py jax jaxlib --quiet"
      ],
      "metadata": {
        "colab": {
          "base_uri": "https://localhost:8080/"
        },
        "id": "BtfH4YKqzNJJ",
        "outputId": "732b4d23-2063-4b10-d685-ac33c03f8440"
      },
      "execution_count": null,
      "outputs": [
        {
          "output_type": "stream",
          "name": "stdout",
          "text": [
            "Found existing installation: bertopic 0.17.0\n",
            "Uninstalling bertopic-0.17.0:\n",
            "  Successfully uninstalled bertopic-0.17.0\n",
            "\u001b[33mWARNING: bertopic 0.17.0 does not provide the extra 'all'\u001b[0m\u001b[33m\n",
            "\u001b[2K   \u001b[90m━━━━━━━━━━━━━━━━━━━━━━━━━━━━━━━━━━━━━━━━\u001b[0m \u001b[32m2.4/2.4 MB\u001b[0m \u001b[31m41.5 MB/s\u001b[0m eta \u001b[36m0:00:00\u001b[0m\n",
            "\u001b[2K   \u001b[90m━━━━━━━━━━━━━━━━━━━━━━━━━━━━━━━━━━━━━━━━\u001b[0m \u001b[32m105.1/105.1 MB\u001b[0m \u001b[31m7.3 MB/s\u001b[0m eta \u001b[36m0:00:00\u001b[0m\n",
            "\u001b[?25h"
          ]
        }
      ]
    },
    {
      "cell_type": "code",
      "source": [
        "import warnings\n",
        "import logging\n",
        "import pandas as pd\n",
        "import numpy as np\n",
        "import matplotlib.pyplot as plt\n",
        "from bertopic import BERTopic\n",
        "from gensim.corpora import Dictionary\n",
        "from gensim.models.coherencemodel import CoherenceModel\n",
        "from sklearn.decomposition import PCA\n",
        "\n",
        "\n",
        "warnings.filterwarnings(\"ignore\")\n",
        "logging.getLogger(\"gensim\").setLevel(logging.ERROR)"
      ],
      "metadata": {
        "id": "cSHOQTU-sSRN"
      },
      "execution_count": null,
      "outputs": []
    },
    {
      "cell_type": "markdown",
      "source": [
        "# **Question 2 (20 Points)**"
      ],
      "metadata": {
        "id": "KfXGIvg36_P_"
      }
    },
    {
      "cell_type": "markdown",
      "source": [
        "\n",
        "\n",
        "Q2) **Generate K=10 topics by using BERTopic and then find optimal K value by the coherence score. Interpret each topic and visualize with suitable style.**"
      ],
      "metadata": {
        "id": "38D2s1f77Ebc"
      }
    },
    {
      "cell_type": "code",
      "source": [
        "\n",
        "\n",
        "import warnings\n",
        "import logging\n",
        "import pandas as pd\n",
        "import numpy as np\n",
        "import matplotlib.pyplot as plt\n",
        "\n",
        "from bertopic import BERTopic\n",
        "from gensim.corpora import Dictionary\n",
        "from gensim.models.coherencemodel import CoherenceModel\n",
        "from sklearn.decomposition import PCA\n",
        "\n",
        "warnings.filterwarnings(\"ignore\")\n",
        "logging.getLogger(\"gensim\").setLevel(logging.ERROR)\n"
      ],
      "metadata": {
        "id": "8WdEPTXrsf-P"
      },
      "execution_count": null,
      "outputs": []
    },
    {
      "cell_type": "code",
      "source": [
        "\n",
        "assignment4_ambica_df = pd.read_csv('/content/assignment3_file.csv')\n",
        "\n",
        "assignment4_ambica_texts = assignment4_ambica_df['clean_text'].tolist()\n"
      ],
      "metadata": {
        "id": "7Qwg2yBVsgJu"
      },
      "execution_count": null,
      "outputs": []
    },
    {
      "cell_type": "code",
      "source": [
        "\n",
        "assignment4_ambica_k = 10\n",
        "assignment4_ambica_model = BERTopic(\n",
        "    nr_topics=assignment4_ambica_k,\n",
        "    calculate_probabilities=True\n",
        ")\n",
        "assignment4_ambica_topics, assignment4_ambica_probs = assignment4_ambica_model.fit_transform(\n",
        "    assignment4_ambica_texts\n",
        ")\n"
      ],
      "metadata": {
        "id": "DlqsHWHXuVao"
      },
      "execution_count": null,
      "outputs": []
    },
    {
      "cell_type": "code",
      "source": [
        "assignment4_ambica_info = assignment4_ambica_model.get_topic_info()\n",
        "plt.figure(figsize=(8,4))\n",
        "plt.bar(\n",
        "    assignment4_ambica_info['Topic'].astype(str),\n",
        "    assignment4_ambica_info['Count']\n",
        ")\n",
        "plt.xlabel('Topic ID')\n",
        "plt.ylabel('Document Count')\n",
        "plt.title('BERTopic Document Frequency')\n",
        "plt.tight_layout()\n",
        "plt.show()\n"
      ],
      "metadata": {
        "colab": {
          "base_uri": "https://localhost:8080/",
          "height": 407
        },
        "id": "p4ysIaTSuXKQ",
        "outputId": "e57392d3-1a4e-4b46-ad76-44432b66b9ea"
      },
      "execution_count": null,
      "outputs": [
        {
          "output_type": "display_data",
          "data": {
            "text/plain": [
              "<Figure size 800x400 with 1 Axes>"
            ],
            "image/png": "[encoded data removed]"
          },
          "metadata": {}
        }
      ]
    },
    {
      "cell_type": "code",
      "source": [
        "\n",
        "pca = PCA(n_components=2, random_state=42)\n",
        "assignment4_ambica_proj = pca.fit_transform(assignment4_ambica_probs)\n",
        "\n",
        "plt.figure(figsize=(6,5))\n",
        "scatter = plt.scatter(\n",
        "    assignment4_ambica_proj[:,0],\n",
        "    assignment4_ambica_proj[:,1],\n",
        "    c=assignment4_ambica_topics,\n",
        "    cmap='tab10',\n",
        "    alpha=0.6\n",
        ")\n",
        "plt.xlabel('PC1')\n",
        "plt.ylabel('PC2')\n",
        "plt.title('Document Embeddings by Top Topic')\n",
        "plt.colorbar(scatter, label='Topic')\n",
        "plt.tight_layout()\n",
        "plt.show()\n"
      ],
      "metadata": {
        "colab": {
          "base_uri": "https://localhost:8080/",
          "height": 507
        },
        "id": "9-rN9eXluYcn",
        "outputId": "f843a672-611c-47b3-b109-ccb20b3262ef"
      },
      "execution_count": null,
      "outputs": [
        {
          "output_type": "display_data",
          "data": {
            "text/plain": [
              "<Figure size 600x500 with 2 Axes>"
            ],
            "image/png": "[encoded data removed]"
          },
          "metadata": {}
        }
      ]
    },
    {
      "cell_type": "code",
      "source": [
        "\n",
        "def assignment4_ambica_calc_coherence(docs, k_min=2, k_max=15):\n",
        "    tokenized = [doc.split() for doc in docs]\n",
        "    dictionary = Dictionary(tokenized)\n",
        "    corpus = [dictionary.doc2bow(text) for text in tokenized]\n",
        "    coh_scores = []\n",
        "    for k in range(k_min, k_max+1):\n",
        "        model_k = BERTopic(nr_topics=k, calculate_probabilities=False)\n",
        "        topics_k, _ = model_k.fit_transform(docs)\n",
        "        # gather top words per topic\n",
        "        kw = [\n",
        "            [w for w,_ in model_k.get_topic(t)]\n",
        "            for t in sorted(set(topics_k)) if t != -1\n",
        "        ]\n",
        "        cm = CoherenceModel(\n",
        "            topics=kw,\n",
        "            texts=tokenized,\n",
        "            dictionary=dictionary,\n",
        "            coherence='c_v'\n",
        "        )\n",
        "        score = cm.get_coherence()\n",
        "        coh_scores.append((k, score))\n",
        "        print(f\"K={k}: Coherence={score:.4f}\")\n",
        "    return coh_scores\n",
        "\n",
        "assignment4_ambica_coh_scores = assignment4_ambica_calc_coherence(\n",
        "    assignment4_ambica_texts, k_min=2, k_max=15\n",
        ")\n"
      ],
      "metadata": {
        "colab": {
          "base_uri": "https://localhost:8080/"
        },
        "id": "wu5QylQQuZsW",
        "outputId": "94da8bb5-11dc-46d4-9331-bffbdeeb7107"
      },
      "execution_count": null,
      "outputs": [
        {
          "output_type": "stream",
          "name": "stdout",
          "text": [
            "K=2: Coherence=0.5147\n",
            "K=3: Coherence=0.4818\n"
          ]
        }
      ]
    },
    {
      "cell_type": "code",
      "source": [
        "\n",
        "ks, scores = zip(*assignment4_ambica_coh_scores)\n",
        "plt.figure(figsize=(7,4))\n",
        "plt.plot(ks, scores, marker='o')\n",
        "plt.xlabel('Number of Topics (K)')\n",
        "plt.ylabel('Coherence Score (c_v)')\n",
        "plt.title('BERTopic Coherence vs. K')\n",
        "plt.tight_layout()\n",
        "plt.show()\n"
      ],
      "metadata": {
        "id": "Hr4oc-Z4ubYl"
      },
      "execution_count": null,
      "outputs": []
    },
    {
      "cell_type": "code",
      "source": [
        "\n",
        "print(\"\\nTop terms per topic for K =\", assignment4_ambica_k)\n",
        "for topic_id in range(assignment4_ambica_k):\n",
        "    terms = assignment4_ambica_model.get_topic(topic_id)\n",
        "    print(f\"Topic {topic_id}: {[w for w,_ in terms[:8]]}\")\n"
      ],
      "metadata": {
        "id": "UGNcgQKWuchp"
      },
      "execution_count": null,
      "outputs": []
    },
    {
      "cell_type": "code",
      "source": [
        "\n",
        "assignment4_ambica_model.visualize_barchart(\n",
        "    top_n_topics=assignment4_ambica_k, n_words=15,\n",
        "    width=400, height=400\n",
        ")\n",
        "assignment4_ambica_model.visualize_hierarchy(\n",
        "    top_n_topics=assignment4_ambica_k, width=600, height=600\n",
        ")\n"
      ],
      "metadata": {
        "id": "5OV2LxtludrZ"
      },
      "execution_count": null,
      "outputs": []
    },
    {
      "cell_type": "code",
      "source": [
        "\n",
        "sim_matrix = assignment4_ambica_model.topic_similarity(\n",
        "    topics=list(range(assignment4_ambica_k))\n",
        ")\n",
        "plt.figure(figsize=(6,5))\n",
        "plt.imshow(sim_matrix, interpolation='nearest')\n",
        "plt.colorbar()\n",
        "plt.title('Topic Similarity Heatmap')\n",
        "plt.xlabel('Topic')\n",
        "plt.ylabel('Topic')\n",
        "plt.tight_layout()\n",
        "plt.show()\n"
      ],
      "metadata": {
        "id": "I75XX-Q5uey0"
      },
      "execution_count": null,
      "outputs": []
    },
    {
      "cell_type": "markdown",
      "source": [
        "# **Question 3 (25 points)**\n"
      ],
      "metadata": {
        "id": "l0se7o0Lz2NF"
      }
    },
    {
      "cell_type": "markdown",
      "source": [
        "**Dataset Link**: 20 Newsgroup Dataset (Random 2000 values)\n",
        "\n",
        "Q3) Using a given dataset, Modify the default representation model by integrating OpenAI's GPT model to generate meaningful summaries for each topic. Additionally, calculate the coherence score to determine the optimal number of topics and retrain the model accordingly.\n",
        "\n"
      ],
      "metadata": {
        "id": "8gZsJgbRzw6l"
      }
    },
    {
      "cell_type": "markdown",
      "source": [
        "Usefull Link: https://maartengr.github.io/BERTopic/getting_started/representation/llm#truncating-documents"
      ],
      "metadata": {
        "id": "-OuHOHi_0AWe"
      }
    },
    {
      "cell_type": "code",
      "source": [
        "import random\n",
        "import re\n",
        "import pandas as pd\n",
        "import nltk\n",
        "from nltk.tokenize import RegexpTokenizer\n",
        "from nltk.corpus import stopwords\n",
        "from nltk.stem import WordNetLemmatizer\n",
        "import warnings\n",
        "import logging\n",
        "from sklearn.datasets import fetch_20newsgroups\n",
        "from gensim.corpora import Dictionary\n",
        "from gensim.models import LdaMulticore, CoherenceModel\n",
        "import matplotlib.pyplot as plt\n"
      ],
      "metadata": {
        "id": "rooXeyvfs_YM"
      },
      "execution_count": null,
      "outputs": []
    },
    {
      "cell_type": "code",
      "source": [
        "# 0. Suppress warnings and gensim logs\n",
        "warnings.simplefilter('ignore')\n",
        "logging.getLogger('gensim').setLevel(logging.ERROR)\n",
        "\n",
        "# 1. Fetch data and sample\n",
        "news = fetch_20newsgroups(subset='all', remove=('headers','footers','quotes'))\n",
        "random.seed(42)\n",
        "sample_posts = random.sample(news.data, 2000)\n",
        "posts_df = pd.DataFrame({'raw_post': sample_posts})\n",
        "\n",
        "# 2. Download NLTK resources\n",
        "nltk.download('stopwords')\n",
        "nltk.download('wordnet')\n",
        "\n",
        "# 3. Initialize preprocessing tools\n",
        "tokenizer = RegexpTokenizer(r\"\\w+\")\n",
        "stop_words = set(stopwords.words('english'))\n",
        "lemmatizer = WordNetLemmatizer()\n",
        "\n",
        "# 4. Define text cleaning function\n",
        "def assignment4_ambica_clean_text(doc):\n",
        "    doc = doc.lower()\n",
        "    tokens = tokenizer.tokenize(doc)\n",
        "    clean_tokens = [lemmatizer.lemmatize(tok) for tok in tokens\n",
        "                    if tok not in stop_words and len(tok) > 3]\n",
        "    return clean_tokens"
      ],
      "metadata": {
        "colab": {
          "base_uri": "https://localhost:8080/"
        },
        "id": "8KNVhFfgtX-2",
        "outputId": "21f55e10-f1a1-458e-fb6a-5e52d68c8316"
      },
      "execution_count": null,
      "outputs": [
        {
          "output_type": "stream",
          "name": "stderr",
          "text": [
            "[nltk_data] Downloading package stopwords to /root/nltk_data...\n",
            "[nltk_data]   Package stopwords is already up-to-date!\n",
            "[nltk_data] Downloading package wordnet to /root/nltk_data...\n",
            "[nltk_data]   Package wordnet is already up-to-date!\n"
          ]
        }
      ]
    },
    {
      "cell_type": "code",
      "source": [
        "# 5. Apply cleaning\n",
        "posts_df['tokens'] = posts_df['raw_post'].apply(assignment4_ambica_clean_text)\n",
        "token_lists = posts_df['tokens'].tolist()\n",
        "\n",
        "# 6. Build dictionary and corpus\n",
        "term_dictionary = Dictionary(token_lists)\n",
        "bow_corpus = [term_dictionary.doc2bow(tokens) for tokens in token_lists]\n",
        "\n",
        "# 7. Compute coherence for K = 5..15\n",
        "coherence_data = []\n",
        "for num_topics in range(5, 16):\n",
        "    lda_model_k = LdaMulticore(\n",
        "        corpus=bow_corpus,\n",
        "        id2word=term_dictionary,\n",
        "        num_topics=num_topics,\n",
        "        random_state=42,\n",
        "        workers=2\n",
        "    )\n",
        "    coherence_model = CoherenceModel(\n",
        "        model=lda_model_k,\n",
        "        texts=token_lists,\n",
        "        dictionary=term_dictionary,\n",
        "        coherence='c_v'\n",
        "    )\n",
        "    coh_score = coherence_model.get_coherence()\n",
        "    coherence_data.append((num_topics, coh_score))\n",
        "    print(f\"Number of Topics = {num_topics}, Coherence = {coh_score:.4f}\")"
      ],
      "metadata": {
        "colab": {
          "base_uri": "https://localhost:8080/"
        },
        "id": "YQnhAzTitbqc",
        "outputId": "761204f3-485b-45aa-d125-5e30811e5772"
      },
      "execution_count": null,
      "outputs": [
        {
          "output_type": "stream",
          "name": "stdout",
          "text": [
            "Number of Topics = 5, Coherence = 0.4953\n",
            "Number of Topics = 6, Coherence = 0.4838\n",
            "Number of Topics = 7, Coherence = 0.5056\n",
            "Number of Topics = 8, Coherence = 0.4746\n",
            "Number of Topics = 9, Coherence = 0.4708\n",
            "Number of Topics = 10, Coherence = 0.4764\n",
            "Number of Topics = 11, Coherence = 0.4716\n",
            "Number of Topics = 12, Coherence = 0.4797\n",
            "Number of Topics = 13, Coherence = 0.4672\n",
            "Number of Topics = 14, Coherence = 0.4611\n",
            "Number of Topics = 15, Coherence = 0.4637\n"
          ]
        }
      ]
    },
    {
      "cell_type": "code",
      "source": [
        "# 8. Plot coherence curve\n",
        "ks, scores = zip(*coherence_data)\n",
        "plt.figure(figsize=(8,5))\n",
        "plt.plot(ks, scores, marker='o')\n",
        "plt.xlabel('Number of Topics (K)')\n",
        "plt.ylabel('Coherence Score (c_v)')\n",
        "plt.title('LDA Coherence vs. K')\n",
        "plt.grid(True)\n",
        "plt.tight_layout()\n",
        "plt.show()\n",
        "\n",
        "# 9. Determine optimal K\n",
        "best_k = max(coherence_data, key=lambda x: x[1])[0]\n",
        "print(f\"\\nOptimal number of topics: {best_k}\")\n",
        "\n",
        "\n"
      ],
      "metadata": {
        "colab": {
          "base_uri": "https://localhost:8080/",
          "height": 542
        },
        "id": "iPynlTIrteHn",
        "outputId": "f0a360f4-59a2-4a6c-e5ba-11d0d3496606"
      },
      "execution_count": null,
      "outputs": [
        {
          "output_type": "display_data",
          "data": {
            "text/plain": [
              "<Figure size 800x500 with 1 Axes>"
            ],
            "image/png": "[encoded data removed]"
          },
          "metadata": {}
        },
        {
          "output_type": "stream",
          "name": "stdout",
          "text": [
            "\n",
            "Optimal number of topics: 7\n"
          ]
        }
      ]
    },
    {
      "cell_type": "code",
      "source": [
        "# 10. Train final LDA model\n",
        "final_lda_model = LdaMulticore(\n",
        "    corpus=bow_corpus,\n",
        "    id2word=term_dictionary,\n",
        "    num_topics=best_k,\n",
        "    random_state=42,\n",
        "    workers=2\n",
        ")\n",
        "\n",
        "# 11. Display top terms per topic\n",
        "print(\"\\nTop terms per topic:\")\n",
        "for idx, topic_terms in final_lda_model.show_topics(num_topics=best_k, num_words=10, formatted=False):\n",
        "    terms = [word for word, _ in topic_terms]\n",
        "    print(f\"Topic {idx+1}: {', '.join(terms)}\")"
      ],
      "metadata": {
        "colab": {
          "base_uri": "https://localhost:8080/"
        },
        "id": "65BMotxOtggO",
        "outputId": "351c63dd-24be-442f-fe70-834766d058a9"
      },
      "execution_count": null,
      "outputs": [
        {
          "output_type": "stream",
          "name": "stdout",
          "text": [
            "\n",
            "Top terms per topic:\n",
            "Topic 1: would, also, think, people, time, like, system, thing, know, make\n",
            "Topic 2: would, know, time, also, think, like, people, want, right, could\n",
            "Topic 3: think, work, people, would, like, also, time, know, year, drive\n",
            "Topic 4: would, know, like, people, could, year, good, time, anyone, well\n",
            "Topic 5: file, would, time, think, know, like, program, people, system, well\n",
            "Topic 6: people, know, like, would, something, well, make, even, time, also\n",
            "Topic 7: would, also, know, think, like, well, people, year, make, could\n"
          ]
        }
      ]
    },
    {
      "cell_type": "code",
      "source": [
        "# Cell: Install & Imports\n",
        "!pip install openai==0.28 --quiet\n",
        "\n",
        "import openai\n",
        "\n",
        "# 1. Paste your OpenAI key here\n",
        "assignment4_ambica_openai_key = \"sk-...\"   # ← your key here\n",
        "openai.api_key = assignment4_ambica_openai_key\n",
        "\n",
        "# 2. Define a summarization helper\n",
        "def assignment4_ambica_gpt_topic_summary(assignment4_ambica_keywords):\n",
        "    assignment4_ambica_prompt = (\n",
        "        \"Generate a concise, human‑readable summary for a topic based on these keywords: \"\n",
        "        + \", \".join(assignment4_ambica_keywords)\n",
        "    )\n",
        "    assignment4_ambica_response = openai.ChatCompletion.create(\n",
        "        model=\"gpt-3.5-turbo\",\n",
        "        messages=[{\"role\": \"user\", \"content\": assignment4_ambica_prompt}],\n",
        "        max_tokens=60,\n",
        "        temperature=0.7\n",
        "    )\n",
        "    return assignment4_ambica_response.choices[0].message.content.strip()\n",
        "\n",
        "# 3. Prepare your topic list (example from an LDA run)\n",
        "# If you have:\n",
        "#   assignment4_ambica_topics_list = final_lda_model.show_topics(\n",
        "#       num_topics=assignment4_ambica_best_k, num_words=10, formatted=False\n",
        "#   )\n",
        "# or for BERTopic:\n",
        "#   assignment4_ambica_topics_list = [\n",
        "#       (tid, assignment4_ambica_model.get_topic(tid))\n",
        "#       for tid in range(assignment4_ambica_k)\n",
        "#   ]\n",
        "\n",
        "# 4. Generate and print summaries\n",
        "print(\"\\n=== GPT‑3.5 Topic Summaries ===\")\n",
        "for assignment4_ambica_idx, assignment4_ambica_topic_terms in assignment4_ambica_topics_list:\n",
        "    # extract just the words\n",
        "    assignment4_ambica_keywords = [w for w, _ in assignment4_ambica_topic_terms]\n",
        "    assignment4_ambica_summary = assignment4_ambica_gpt_topic_summary(assignment4_ambica_keywords)\n",
        "    print(f\"Topic {assignment4_ambica_idx+1}: {assignment4_ambica_summary}\")\n"
      ],
      "metadata": {
        "id": "gWptoKF3u14T"
      },
      "execution_count": null,
      "outputs": []
    },
    {
      "cell_type": "markdown",
      "source": [
        "# **Question 4 (35 Points)**"
      ],
      "metadata": {
        "id": "c-a-fRBtgI-Z"
      }
    },
    {
      "cell_type": "markdown",
      "metadata": {
        "id": "7nZGAOwl70ng"
      },
      "source": [
        "\n",
        "**BERTopic** allows for extensive customization, including the choice of embedding models, dimensionality reduction techniques, and clustering algorithms.\n",
        "\n",
        "**Dataset Link**: 20 Newsgroup Dataset (Random 2000 values)\n",
        "\n",
        "4)\n",
        "\n",
        "4.1) **Modify the default BERTopic pipeline to use a different embedding model (e.g., Sentence-Transformers) and a different clustering algorithm (e.g., DBSCAN instead of HDBSCAN).\n",
        "\n",
        "4.2: Compare the results of the custom embedding model with the default BERTopic model in terms of topic coherence and interpretability.\n",
        "\n",
        "4.3: Visualize the topics and provide a qualitative analysis of the differences\n",
        "\n",
        "**"
      ]
    },
    {
      "cell_type": "markdown",
      "source": [
        "Usefull Link :https://www.pinecone.io/learn/bertopic/"
      ],
      "metadata": {
        "id": "LYVtmLugexRE"
      }
    },
    {
      "cell_type": "code",
      "source": [
        "import warnings\n",
        "import logging\n",
        "import random\n",
        "import pandas as pd\n",
        "import matplotlib.pyplot as plt\n",
        "from sklearn.datasets import fetch_20newsgroups\n",
        "from sentence_transformers import SentenceTransformer\n",
        "from sklearn.feature_extraction.text import TfidfVectorizer\n",
        "from hdbscan import HDBSCAN\n",
        "from bertopic import BERTopic\n",
        "from umap import UMAP"
      ],
      "metadata": {
        "id": "7Tmvx5MRvVlw"
      },
      "execution_count": null,
      "outputs": []
    },
    {
      "cell_type": "code",
      "source": [
        "# 1. Suppress warnings and gensim logs\n",
        "warnings.filterwarnings('ignore')\n",
        "logging.getLogger('gensim').setLevel(logging.ERROR)\n",
        "\n",
        "# 2. Fetch and sample data\n",
        "random.seed(123)\n",
        "news_data = fetch_20newsgroups(subset='all', remove=('headers','footers','quotes'))\n",
        "sampled_posts = random.sample(news_data.data, 2000)\n",
        "ambica_df = pd.DataFrame(sampled_posts, columns=['content'])\n",
        "\n",
        "# 3. Generate embeddings\n",
        "ambica_embedder = SentenceTransformer('paraphrase-MiniLM-L6-v2')\n",
        "ambica_embeddings = ambica_embedder.encode(\n",
        "    ambica_df['content'].tolist(), show_progress_bar=True\n",
        ")"
      ],
      "metadata": {
        "id": "CaQpbBDivWs6"
      },
      "execution_count": null,
      "outputs": []
    },
    {
      "cell_type": "code",
      "source": [
        "# 4. Custom clustering with HDBSCAN\n",
        "ambica_clusterer = HDBSCAN(\n",
        "    min_cluster_size=10,\n",
        "    metric='euclidean',\n",
        "    cluster_selection_method='eom'\n",
        ")\n",
        "\n",
        "# 5. TF-IDF vectorizer (ngram up to trigrams)\n",
        "ambica_vectorizer = TfidfVectorizer(\n",
        "    ngram_range=(1, 3),\n",
        "    max_df=0.90,\n",
        "    min_df=5\n",
        ")\n"
      ],
      "metadata": {
        "id": "vNte8C5TvZVG"
      },
      "execution_count": null,
      "outputs": []
    },
    {
      "cell_type": "code",
      "source": [
        "# 6. Build and fit BERTopic\n",
        "ambica_model = BERTopic(\n",
        "    embedding_model=ambica_embedder,\n",
        "    hdbscan_model=ambica_clusterer,\n",
        "    vectorizer_model=ambica_vectorizer,\n",
        "    calculate_probabilities=True,\n",
        "    verbose=False\n",
        ")\n",
        "ambica_topics, ambica_probs = ambica_model.fit_transform(\n",
        "    ambica_df['content'], ambica_embeddings\n",
        ")"
      ],
      "metadata": {
        "id": "pgO_kdirvbNY"
      },
      "execution_count": null,
      "outputs": []
    },
    {
      "cell_type": "code",
      "source": [
        "# 7. Display topic info and top terms\n",
        "ambica_info = ambica_model.get_topic_info()\n",
        "print(ambica_info.head())\n",
        "\n",
        "for topic_id in ambica_info['Topic'].unique():\n",
        "    if topic_id == -1:\n",
        "        continue\n",
        "    terms = ambica_model.get_topic(topic_id)\n",
        "    print(f\"Topic {topic_id}: {terms[:8]}\")\n",
        "\n",
        "# 8. Topic frequency bar chart\n",
        "plt.figure(figsize=(8,4))\n",
        "plt.bar(\n",
        "    ambica_info['Topic'].astype(str),\n",
        "    ambica_info['Count']\n",
        ")\n",
        "plt.xlabel('Topic')\n",
        "plt.ylabel('Document Count')\n",
        "plt.title('Modified BERTopic: Topic Frequencies')\n",
        "plt.tight_layout()\n",
        "plt.show()"
      ],
      "metadata": {
        "id": "xvN2J3P6vc82"
      },
      "execution_count": null,
      "outputs": []
    },
    {
      "cell_type": "code",
      "source": [
        "# 9. UMAP projection of embeddings colored by topic\n",
        "umap_model = UMAP(\n",
        "    n_neighbors=15,\n",
        "    n_components=2,\n",
        "    metric='cosine',\n",
        "    random_state=42\n",
        ")\n",
        "ambica_umap = umap_model.fit_transform(ambica_embeddings)\n",
        "plt.figure(figsize=(6,5))\n",
        "plt.scatter(\n",
        "    ambica_umap[:,0],\n",
        "    ambica_umap[:,1],\n",
        "    c=ambica_topics,\n",
        "    cmap='tab10',\n",
        "    s=10,\n",
        "    alpha=0.7\n",
        ")\n",
        "plt.xlabel('UMAP 1')\n",
        "plt.ylabel('UMAP 2')\n",
        "plt.title('UMAP of Documents by Topic')\n",
        "plt.colorbar(label='Topic')\n",
        "plt.tight_layout()\n",
        "plt.show()"
      ],
      "metadata": {
        "id": "eWLM4R7jveoe"
      },
      "execution_count": null,
      "outputs": []
    },
    {
      "cell_type": "code",
      "source": [
        "# 10. Visualize top keywords bar chart\n",
        "ambica_model.visualize_barchart(\n",
        "    top_n_topics=8,\n",
        "    n_words=12,\n",
        "    width=400,\n",
        "    height=400\n",
        ")"
      ],
      "metadata": {
        "id": "cEjzqrilvgz9"
      },
      "execution_count": null,
      "outputs": []
    },
    {
      "cell_type": "markdown",
      "source": [
        "## Extra Question (5 Points)\n",
        "\n",
        "**Compare the results generated by the four topic modeling algorithms (LDA, LSA, BERTopic, Modified BERTopic), which one is better? You should explain the reasons in details.**\n",
        "\n",
        "**This question will compensate for any points deducted in this exercise. Maximum marks for the exercise is 100 points.**"
      ],
      "metadata": {
        "id": "d89ODUx3jjJV"
      }
    },
    {
      "cell_type": "code",
      "source": [
        "# Write your code here"
      ],
      "metadata": {
        "id": "OK34nZtojhmm"
      },
      "execution_count": null,
      "outputs": []
    },
    {
      "cell_type": "markdown",
      "source": [
        "# Mandatory Question"
      ],
      "metadata": {
        "id": "VEs-OoDEhTW4"
      }
    },
    {
      "cell_type": "markdown",
      "source": [
        "**Important: Reflective Feedback on this exercise**\n",
        "\n",
        "Please provide your thoughts and feedback on the exercises you completed in this assignment.\n",
        "\n",
        "Consider the following points in your response:\n",
        "\n",
        "**Learning Experience:** Describe your overall learning experience in working with text data and extracting features using various topic modeling algorithms. Did you understand these algorithms and did the implementations helped in grasping the nuances of feature extraction from text data.\n",
        "\n",
        "**Challenges Encountered:** Were there specific difficulties in completing this exercise?\n",
        "\n",
        "Relevance to Your Field of Study: How does this exercise relate to the field of NLP?\n",
        "\n",
        "**(Your submission will not be graded if this question is left unanswered)**\n",
        "\n"
      ],
      "metadata": {
        "id": "IUKC7suYhVl0"
      }
    },
    {
      "cell_type": "code",
      "source": [
        "# Your answer here (no code for this question, write down your answer as detail as possible for the above questions):\n",
        "\n",
        "'''\n",
        "Please write you answer here:\n",
        "\n",
        "\n",
        "\n",
        "\n",
        "\n",
        "'''"
      ],
      "metadata": {
        "id": "CAq0DZWAhU9m"
      },
      "execution_count": null,
      "outputs": []
    }
  ],
  "metadata": {
    "kernelspec": {
      "display_name": "Python 3 (ipykernel)",
      "language": "python",
      "name": "python3"
    },
    "language_info": {
      "codemirror_mode": {
        "name": "ipython",
        "version": 3
      },
      "file_extension": ".py",
      "mimetype": "text/x-python",
      "name": "python",
      "nbconvert_exporter": "python",
      "pygments_lexer": "ipython3",
      "version": "3.9.12"
    },
    "colab": {
      "provenance": [],
      "include_colab_link": true
    }
  },
  "nbformat": 4,
  "nbformat_minor": 0
}